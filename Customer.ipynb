{
  "nbformat": 4,
  "nbformat_minor": 0,
  "metadata": {
    "colab": {
      "provenance": [],
      "authorship_tag": "ABX9TyNXfNTH4a55tcakUieRnVEy",
      "include_colab_link": true
    },
    "kernelspec": {
      "name": "python3",
      "display_name": "Python 3"
    },
    "language_info": {
      "name": "python"
    }
  },
  "cells": [
    {
      "cell_type": "markdown",
      "metadata": {
        "id": "view-in-github",
        "colab_type": "text"
      },
      "source": [
        "<a href=\"https://colab.research.google.com/github/bhagyesh16/datascience/blob/main/Customer.ipynb\" target=\"_parent\"><img src=\"https://colab.research.google.com/assets/colab-badge.svg\" alt=\"Open In Colab\"/></a>"
      ]
    },
    {
      "cell_type": "code",
      "execution_count": 3,
      "metadata": {
        "id": "KrkFWVTwkGAv"
      },
      "outputs": [],
      "source": [
        "#HR will get predication about employees"
      ]
    },
    {
      "cell_type": "code",
      "source": [
        "# Importing Necessary Libraries\n",
        "import pandas as pd\n",
        "import numpy as np\n",
        "from sklearn.model_selection import train_test_split\n",
        "from sklearn.preprocessing import LabelEncoder, StandardScaler\n",
        "from sklearn.ensemble import RandomForestClassifier\n",
        "from sklearn.metrics import accuracy_score, classification_report\n",
        "\n",
        "# 1. Generating Synthetic Customer Data\n",
        "np.random.seed(42)  # For reproducibility\n",
        "data = {\n",
        "    \"CustomerID\": np.arange(1, 1001),  # Unique IDs for 1000 customers\n",
        "    \"Age\": np.random.randint(18, 65, 1000),  # Random ages between 18 and 65\n",
        "    \"Gender\": np.random.choice([\"Male\", \"Female\"], 1000),  # Random genders\n",
        "    \"SubscriptionLength\": np.random.randint(1, 24, 1000),  # Subscription length (1-24 months)\n",
        "    \"MonthlyBill\": np.random.uniform(10, 100, 1000),  # Monthly bill between $10 and $100\n",
        "    \"CustomerSupportCalls\": np.random.randint(0, 10, 1000),  # Number of support calls (0-9)\n",
        "    \"Churn\": np.random.choice([0, 1], 1000)  # Target: 0 = Stayed, 1 = Left (Churn)\n",
        "}\n",
        "\n",
        "# Creating a DataFrame\n",
        "df = pd.DataFrame(data)\n",
        "\n",
        "# 2. Data Preprocessing\n",
        "df.drop(\"CustomerID\", axis=1, inplace=True)  # Removing CustomerID as it's not useful for prediction\n",
        "df[\"Gender\"] = LabelEncoder().fit_transform(df[\"Gender\"])  # Encoding Gender (Male=1, Female=0)\n",
        "\n",
        "# 3. Feature Scaling (Standardizing the data)\n",
        "scaler = StandardScaler()\n",
        "scaled_features = scaler.fit_transform(df.drop(\"Churn\", axis=1))  # Scaling all features except 'Churn'\n",
        "\n",
        "# Defining Features (X) and Target (y)\n",
        "X = pd.DataFrame(scaled_features, columns=df.columns[:-1])\n",
        "y = df[\"Churn\"]\n",
        "\n",
        "# 4. Splitting the Data into Training and Testing Sets\n",
        "X_train, X_test, y_train, y_test = train_test_split(\n",
        "    X, y, test_size=0.2, random_state=42\n",
        ")\n",
        "\n",
        "# 5. Model Training using Random Forest Classifier\n",
        "model = RandomForestClassifier(n_estimators=100, random_state=42)\n",
        "model.fit(X_train, y_train)\n",
        "\n",
        "# 6. Making Predictions & Model Evaluation\n",
        "y_pred = model.predict(X_test)\n",
        "\n",
        "# Displaying Evaluation Metrics\n",
        "accuracy = accuracy_score(y_test, y_pred)\n",
        "print(f\"🔍 Model Accuracy: {accuracy * 100:.2f}%\\n\")\n",
        "\n",
        "print(\"📊 Classification Report:\")\n",
        "print(classification_report(y_test, y_pred, target_names=[\"Stayed\", \"Left\"]))\n"
      ],
      "metadata": {
        "colab": {
          "base_uri": "https://localhost:8080/"
        },
        "id": "waZPbFp5WGXN",
        "outputId": "58693a92-1510-44f9-e849-4bb5f6590cb5"
      },
      "execution_count": 2,
      "outputs": [
        {
          "output_type": "stream",
          "name": "stdout",
          "text": [
            "🔍 Model Accuracy: 49.00%\n",
            "\n",
            "📊 Classification Report:\n",
            "              precision    recall  f1-score   support\n",
            "\n",
            "      Stayed       0.51      0.45      0.47       103\n",
            "        Left       0.48      0.54      0.50        97\n",
            "\n",
            "    accuracy                           0.49       200\n",
            "   macro avg       0.49      0.49      0.49       200\n",
            "weighted avg       0.49      0.49      0.49       200\n",
            "\n"
          ]
        }
      ]
    }
  ]
}