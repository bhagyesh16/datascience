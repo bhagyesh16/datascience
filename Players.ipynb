{
  "nbformat": 4,
  "nbformat_minor": 0,
  "metadata": {
    "colab": {
      "provenance": [],
      "authorship_tag": "ABX9TyNr3/qPeBUP0nNXIZoAr4J4",
      "include_colab_link": true
    },
    "kernelspec": {
      "name": "python3",
      "display_name": "Python 3"
    },
    "language_info": {
      "name": "python"
    }
  },
  "cells": [
    {
      "cell_type": "markdown",
      "metadata": {
        "id": "view-in-github",
        "colab_type": "text"
      },
      "source": [
        "<a href=\"https://colab.research.google.com/github/bhagyesh16/datascience/blob/main/Players.ipynb\" target=\"_parent\"><img src=\"https://colab.research.google.com/assets/colab-badge.svg\" alt=\"Open In Colab\"/></a>"
      ]
    },
    {
      "cell_type": "code",
      "execution_count": 2,
      "metadata": {
        "id": "LnNbxBzXj0vl",
        "colab": {
          "base_uri": "https://localhost:8080/"
        },
        "outputId": "05e7bb61-2d6e-4e3c-c096-87025d5a6839"
      },
      "outputs": [
        {
          "output_type": "stream",
          "name": "stdout",
          "text": [
            "Accuracy: 1.0\n",
            "Predicted team performance: [1 0 1 0 1]\n"
          ]
        }
      ],
      "source": [
        "\n",
        "import pandas as pd\n",
        "import numpy as np\n",
        "from sklearn.preprocessing import StandardScaler\n",
        "from sklearn.ensemble import RandomForestClassifier\n",
        "from sklearn.metrics import accuracy_score\n",
        "\n",
        "# Example: Let's assume we have a DataFrame with player stats\n",
        "data = {\n",
        "    'Player': ['Player1', 'Player2', 'Player3', 'Player4', 'Player5'],\n",
        "    'BattingAvg': [45.5, 40.3, 50.2, 30.1, 36.2],\n",
        "    'BowlingAvg': [25.4, 27.3, 22.0, 18.2, 30.5],\n",
        "    'FieldingAvg': [0.9, 0.85, 0.92, 0.88, 0.91],\n",
        "}\n",
        "\n",
        "df = pd.DataFrame(data)\n",
        "\n",
        "# Standardize the features\n",
        "scaler = StandardScaler()\n",
        "scaled_data = scaler.fit_transform(df[['BattingAvg', 'BowlingAvg', 'FieldingAvg']])\n",
        "\n",
        "# Add the standardized data to the original dataframe\n",
        "df[['BattingAvg', 'BowlingAvg', 'FieldingAvg']] = scaled_data\n",
        "\n",
        "# For simplicity, let's say we manually assign a 'team performance' label\n",
        "df['Performance'] = [1, 0, 1, 0, 1]  # 1 = High, 0 = Low\n",
        "\n",
        "# Apply a model (RandomForest in this case)\n",
        "model = RandomForestClassifier()\n",
        "model.fit(df[['BattingAvg', 'BowlingAvg', 'FieldingAvg']], df['Performance'])\n",
        "\n",
        "# Predict the performance for each player\n",
        "predictions = model.predict(df[['BattingAvg', 'BowlingAvg', 'FieldingAvg']])\n",
        "df['PredictedPerformance'] = predictions\n",
        "\n",
        "# Calculate accuracy\n",
        "accuracy = accuracy_score(df['Performance'], df['PredictedPerformance'])\n",
        "print(\"Accuracy:\", accuracy)\n",
        "\n",
        "# Output predicted team performance\n",
        "print(\"Predicted team performance:\", predictions)"
      ]
    }
  ]
}